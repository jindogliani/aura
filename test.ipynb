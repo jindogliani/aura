{
 "cells": [
  {
   "cell_type": "code",
   "execution_count": 4,
   "metadata": {},
   "outputs": [],
   "source": [
    "import pickle"
   ]
  },
  {
   "cell_type": "code",
   "execution_count": 5,
   "metadata": {},
   "outputs": [],
   "source": [
    "path = \"/home/workplace/aura/best_scene_600.pickle\"\n",
    "with open(path, \"rb\") as f:\n",
    "    best_scene = pickle.load(f)"
   ]
  },
  {
   "cell_type": "code",
   "execution_count": 6,
   "metadata": {},
   "outputs": [
    {
     "name": "stdout",
     "output_type": "stream",
     "text": [
      "{'PA-0023': ('w56', 14), 'PA-0026': ('w10', 20.009037699828127), 'KO-0009': ('w46', 32.92212527909511), 'PA-0095': ('w9', 175.0), 'PA-0098': ('w9', -39.70953457013525), 'PA-0076': ('w9', 86.29046542986475), 'PA-0074': ('w9', 198.46236015569605), 'PA-0075': ('w9', 185.0), 'PA-0077': ('w9', -73.4190691402705), 'KO-0010': ('w9', 162.0), 'KO-0008': ('w9', 57.29046542986475), 'PA-0101': ('w9', 41.29046542986475), 'PA-0057': ('w9', 153.0), 'PA-0052': ('w9', 75.29046542986475), 'PA-0061': ('w10', 47.94729428299689), 'PA-0001': ('w14', 184.94807585550643), 'PA-0003': ('w18', 64.80543375681535), 'PA-0004': ('w18', 25.805433756815347), 'PA-0082': ('w24', 60.0), 'PA-0084': ('w24', 35.0), 'PA-0083': ('w26', 9.748728059933015), 'PA-0063': ('w26', 62.0), 'PA-0067': ('w27', 208.5848239830331), 'PA-0064': ('w27', 128.1949413276777), 'PA-0024': ('w31', 78.0), 'PA-0087': ('w41', -58.95997177586922), 'PA-0027': ('w42', 69.0), 'PA-0025': ('w42', 17.46333454018213), 'PA-0036': ('w43', 63.0), 'PA-0085': ('w43', 41.0), 'PA-0086': ('w43', 51.0), 'PA-0070': ('w45', 67.0), 'PA-0065': ('w45', 55.0), 'PA-0031': ('w46', 17.922125279095113), 'PA-0088': ('w50', 46.0), 'PA-0100': ('w52', 75.0), 'PA-0099': ('w52', 64.0), 'KO-0007': ('w56', 55.0), 'KO-0006': ('w57', 159.0), 'KO-0004': ('w57', 178.1577859183915), 'KO-0005': ('w57', 125.0), 'PA-0090': ('w57', 138.0), 'PA-0089': ('w58', 48.0)}\n"
     ]
    }
   ],
   "source": [
    "print(best_scene)"
   ]
  },
  {
   "cell_type": "code",
   "execution_count": null,
   "metadata": {},
   "outputs": [],
   "source": []
  }
 ],
 "metadata": {
  "kernelspec": {
   "display_name": "mcts",
   "language": "python",
   "name": "python3"
  },
  "language_info": {
   "codemirror_mode": {
    "name": "ipython",
    "version": 3
   },
   "file_extension": ".py",
   "mimetype": "text/x-python",
   "name": "python",
   "nbconvert_exporter": "python",
   "pygments_lexer": "ipython3",
   "version": "3.9.16"
  },
  "orig_nbformat": 4
 },
 "nbformat": 4,
 "nbformat_minor": 2
}
