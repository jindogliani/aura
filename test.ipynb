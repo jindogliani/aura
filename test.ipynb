{
 "cells": [
  {
   "cell_type": "code",
   "execution_count": 4,
   "metadata": {},
   "outputs": [],
   "source": [
    "import pickle"
   ]
  },
  {
   "cell_type": "code",
   "execution_count": 7,
   "metadata": {},
   "outputs": [],
   "source": [
    "path = \"/home/workplace/aura/best_scene_600.pickle\"\n",
    "with open(path, \"rb\") as f:\n",
    "    best_scene = pickle.load(f)"
   ]
  },
  {
   "cell_type": "code",
   "execution_count": 8,
   "metadata": {},
   "outputs": [
    {
     "name": "stdout",
     "output_type": "stream",
     "text": [
      "{'PA-0023': ('w9', 14), 'PA-0026': ('w45', 88), 'KO-0009': ('w24', -742), 'PA-0095': ('w27', -485), 'PA-0098': ('w27', -555), 'PA-0076': ('w27', -545), 'PA-0074': ('w27', 64), 'PA-0075': ('w57', 105), 'PA-0077': ('w27', -460), 'KO-0010': ('w27', -519), 'KO-0008': ('w9', 144), 'PA-0101': ('w27', -472), 'PA-0057': ('w10', -123), 'PA-0052': ('w10', -66), 'PA-0061': ('w10', -178), 'PA-0001': ('w14', 51), 'PA-0003': ('w18', -107), 'PA-0004': ('w18', -67), 'PA-0082': ('w24', -722), 'PA-0084': ('w24', -1314), 'PA-0083': ('w26', 9), 'PA-0063': ('w26', 23), 'PA-0067': ('w27', -1755), 'PA-0064': ('w27', -532), 'PA-0024': ('w31', -81), 'PA-0087': ('w41', 10), 'PA-0027': ('w42', 9), 'PA-0025': ('w42', -1), 'PA-0036': ('w43', 63), 'PA-0085': ('w43', 40), 'PA-0086': ('w43', -14), 'PA-0070': ('w45', 102), 'PA-0065': ('w45', 70), 'PA-0031': ('w46', 52), 'PA-0088': ('w50', -164), 'PA-0100': ('w52', 121), 'PA-0099': ('w52', 132), 'KO-0007': ('w56', 14), 'KO-0006': ('w57', 141), 'KO-0004': ('w57', 166), 'KO-0005': ('w57', 118), 'PA-0090': ('w57', 7), 'PA-0089': ('w58', 9)}\n"
     ]
    }
   ],
   "source": [
    "print(best_scene)"
   ]
  },
  {
   "cell_type": "code",
   "execution_count": 1,
   "metadata": {},
   "outputs": [],
   "source": [
    "import numpy as np"
   ]
  },
  {
   "cell_type": "code",
   "execution_count": 7,
   "metadata": {},
   "outputs": [
    {
     "name": "stdout",
     "output_type": "stream",
     "text": [
      "1285\n"
     ]
    }
   ],
   "source": [
    "heatmap = np.load(\"/home/workplace/aura/Data_2023_preAURA_2023+(9-24-17-25)/KO-0005.npy\")\n",
    "print(np.sum(heatmap))"
   ]
  },
  {
   "cell_type": "code",
   "execution_count": 8,
   "metadata": {},
   "outputs": [
    {
     "name": "stdout",
     "output_type": "stream",
     "text": [
      "786\n"
     ]
    }
   ],
   "source": [
    "heatmap = np.load(\"/home/workplace/aura/Data_2023_preAURA_2023+(9-24-17-25)/KO-0010.npy\")\n",
    "print(np.sum(heatmap))"
   ]
  },
  {
   "cell_type": "code",
   "execution_count": null,
   "metadata": {},
   "outputs": [],
   "source": []
  }
 ],
 "metadata": {
  "kernelspec": {
   "display_name": "mcts",
   "language": "python",
   "name": "python3"
  },
  "language_info": {
   "codemirror_mode": {
    "name": "ipython",
    "version": 3
   },
   "file_extension": ".py",
   "mimetype": "text/x-python",
   "name": "python",
   "nbconvert_exporter": "python",
   "pygments_lexer": "ipython3",
   "version": "3.9.16"
  },
  "orig_nbformat": 4
 },
 "nbformat": 4,
 "nbformat_minor": 2
}
